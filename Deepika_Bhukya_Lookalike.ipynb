{
 "cells": [
  {
   "cell_type": "code",
   "execution_count": null,
   "id": "0444dece-1598-4541-810a-e103ee4f4620",
   "metadata": {},
   "outputs": [],
   "source": [
    "#Lookalike Model\n",
    "#This part of the assignment involves creating a Lookalike Model."
   ]
  },
  {
   "cell_type": "code",
   "execution_count": 45,
   "id": "38673bd7-7fb2-42ea-b3b4-54e36df79249",
   "metadata": {},
   "outputs": [
    {
     "name": "stdout",
     "output_type": "stream",
     "text": [
      "  CustomerID  total_spent  num_transactions  avg_transaction_value  \\\n",
      "0      C0001      3354.52                 5                670.904   \n",
      "1      C0002      1862.74                 4                465.685   \n",
      "2      C0003      2725.38                 4                681.345   \n",
      "3      C0004      5354.88                 8                669.360   \n",
      "4      C0005      2034.24                 3                678.080   \n",
      "\n",
      "          Region  \n",
      "0  South America  \n",
      "1           Asia  \n",
      "2  South America  \n",
      "3  South America  \n",
      "4           Asia  \n"
     ]
    }
   ],
   "source": [
    "# Aggregate data for each customer (total spent, number of transactions, average transaction value)\n",
    "customer_data = transactions_df.groupby('CustomerID').agg(\n",
    "    total_spent=pd.NamedAgg(column='TotalValue', aggfunc='sum'),\n",
    "    num_transactions=pd.NamedAgg(column='TransactionID', aggfunc='count'),\n",
    "    avg_transaction_value=pd.NamedAgg(column='TotalValue', aggfunc='mean')\n",
    ").reset_index()\n",
    "\n",
    "# Merge with customer information (e.g., Region)\n",
    "customer_data = pd.merge(customer_data, customers_df[['CustomerID', 'Region']], on='CustomerID', how='left')\n",
    "print(customer_data.head())\n"
   ]
  }
 ],
 "metadata": {
  "kernelspec": {
   "display_name": "anaconda-2024.02-py310",
   "language": "python",
   "name": "conda-env-anaconda-2024.02-py310-py"
  },
  "language_info": {
   "codemirror_mode": {
    "name": "ipython",
    "version": 3
   },
   "file_extension": ".py",
   "mimetype": "text/x-python",
   "name": "python",
   "nbconvert_exporter": "python",
   "pygments_lexer": "ipython3",
   "version": "3.10.14"
  }
 },
 "nbformat": 4,
 "nbformat_minor": 5
}
